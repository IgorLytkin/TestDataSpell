{
 "cells": [
  {
   "cell_type": "code",
   "execution_count": null,
   "metadata": {
    "collapsed": true,
    "pycharm": {
     "is_executing": true
    }
   },
   "outputs": [],
   "source": [
    "%%writefile list_file.py\n",
    "# use ipython magic command %%writefile to create a python script file and write below script content to it.\n",
    "# import two python standard module.\n",
    "import sys\n",
    "import os\n",
    "# set dir_name value to current directory by default.\n",
    "dir_name = './'\n",
    "# if user input an argument.\n",
    "if len(sys.argv) > 1:\n",
    "    # give the first argument value to a local variable, the argument value should be a directory name.\n",
    "    dir_name = sys.argv[1]\n",
    "\n",
    "# get all the dir_name directory contained files in a list\n",
    "files_list = os.listdir(dir_name)\n",
    "\n",
    "# loop in the files_list.\n",
    "for file in files_list:\n",
    "    # print out file name in the standard output.\n",
    "    print(file)\n",
    "\n"
   ]
  },
  {
   "cell_type": "code",
   "execution_count": null,
   "outputs": [],
   "source": [],
   "metadata": {
    "collapsed": false
   }
  }
 ],
 "metadata": {
  "kernelspec": {
   "display_name": "Python 3",
   "language": "python",
   "name": "python3"
  },
  "language_info": {
   "codemirror_mode": {
    "name": "ipython",
    "version": 2
   },
   "file_extension": ".py",
   "mimetype": "text/x-python",
   "name": "python",
   "nbconvert_exporter": "python",
   "pygments_lexer": "ipython2",
   "version": "2.7.6"
  }
 },
 "nbformat": 4,
 "nbformat_minor": 0
}
